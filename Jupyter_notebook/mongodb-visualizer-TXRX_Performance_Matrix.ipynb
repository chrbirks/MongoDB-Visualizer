{
 "cells": [
  {
   "cell_type": "code",
   "execution_count": null,
   "metadata": {
    "collapsed": false
   },
   "outputs": [],
   "source": [
    "from IPython.display import HTML\n",
    "\n",
    "#HTML('''<script>\n",
    "#code_show=true; \n",
    "#function code_toggle() {\n",
    "# if (code_show){\n",
    "# $('div.input').hide();\n",
    "# } else {\n",
    "# $('div.input').show();\n",
    "# }\n",
    "# code_show = !code_show\n",
    "#} \n",
    "#$( document ).ready(code_toggle);\n",
    "#</script>\n",
    "#<form action=\"javascript:code_toggle()\"><input type=\"submit\" value=\"Click here to toggle on/off the raw code.\"></form>''')\n"
   ]
  },
  {
   "cell_type": "code",
   "execution_count": 1,
   "metadata": {
    "collapsed": true
   },
   "outputs": [],
   "source": [
    "import pymongo\n",
    "import numpy\n",
    "#import colorlover as cl\n",
    "\n",
    "client = pymongo.MongoClient(\"localhost\", 27017)\n",
    "\n",
    "db = client.test # Use DB name 'test'\n",
    "collection = db.TRE_Performance_Mask"
   ]
  },
  {
   "cell_type": "code",
   "execution_count": 9,
   "metadata": {
    "collapsed": false
   },
   "outputs": [],
   "source": [
    "from ipywidgets import interact, interactive, fixed\n",
    "import ipywidgets as widgets\n",
    "\n",
    "cursor = collection.find()\n",
    "def f_channel_type(channel_type, rx_channel_type):\n",
    "    if channel_type == 0:\n",
    "        cursor = collection.find({'HFF_Channel_Type':'TX'}, {'TRE_Performance_Mask':'true', '_id':'False'}) # Find all TX records and return only array\n",
    "    elif channel_type == 1:\n",
    "        if rx_channel_type == 0:\n",
    "            cursor = collection.find({'HFF_Channel_Type':'RX', 'HFF_RX_Channel_type':'HFF_A_CHANNEL'}, {'TRE_Performance_Mask':'true', '_id':'False'})\n",
    "        elif rx_channel_type == 1:\n",
    "            cursor = collection.find({'HFF_Channel_Type':'RX', 'HFF_RX_Channel_type':'HFF_B_CHANNEL'}, {'TRE_Performance_Mask':'true', '_id':'False'})\n",
    "        else:\n",
    "            print('ERROR: Unknown RX channel type')\n",
    "    else:\n",
    "        print('ERROR: Unknown channel type')\n",
    "    \n",
    "interact(f_channel_type, channel_type={'TX':0, 'RX':1}, rx_channel_type={'A':0, 'B':1});"
   ]
  },
  {
   "cell_type": "code",
   "execution_count": 11,
   "metadata": {
    "collapsed": false,
    "scrolled": false
   },
   "outputs": [
    {
     "name": "stdout",
     "output_type": "stream",
     "text": [
      "1\n",
      "2\n"
     ]
    }
   ],
   "source": [
    "#cursor = collection.find()\n",
    "#cursor = collection.find({'Temperature_Vec_1.Mean':30}, {'Temperature_Vec_1.Mean': 1})\n",
    "#cursor = collection.find({'Temperature_Vec_1.Mean':30}, {'Temperature_Vec_1.$.Mean':30})\n",
    "#cursor = collection.find({}, {'Temperature_Vec_1.Mean':'true', '_id':'false'})\n",
    "#cursor = collection.find({}, {'Temperature_Vec_1':'true'})\n",
    "\n",
    "# Find number of records\n",
    "z = 0\n",
    "for record in collection.find():\n",
    "    z += 1\n",
    "    print(z)\n",
    "\n",
    "# Matrix with all TRE values. x=col, y=row, z=records\n",
    "values = numpy.array([[[0 for x in range(40)] for y in range(48)] for z in range(z-1)])\n",
    "# Index using [z][y][x] from now on. First index is 0\n",
    "#print(values)\n",
    "\n",
    "# For all TRE_Performance_Mask records\n",
    "record_index = 0\n",
    "for record in cursor:\n",
    "    #print(record)\n",
    "    #print(record_index)\n",
    "    values[record_index] = record['TRE_Performance_Mask']\n",
    "    record_index += 1\n",
    "\n",
    "#print(values)\n",
    "#print(values[0])"
   ]
  },
  {
   "cell_type": "markdown",
   "metadata": {},
   "source": [
    "## Create interactive plot here"
   ]
  },
  {
   "cell_type": "code",
   "execution_count": null,
   "metadata": {
    "collapsed": false,
    "scrolled": false
   },
   "outputs": [],
   "source": [
    "####### Plotting using plotly\n",
    "from plotly.offline import download_plotlyjs, init_notebook_mode, iplot\n",
    "from plotly.graph_objs import *\n",
    "from plotly.tools import FigureFactory as FF\n",
    "init_notebook_mode()\n",
    "    \n",
    "from ipywidgets import interactive, interact\n",
    "import ipywidgets as widgets\n",
    "from IPython.display import display\n",
    "\n",
    "row_label = []\n",
    "for i in range(48):\n",
    "    row_label.append(str(i+1))\n",
    "col_label = []\n",
    "for i in range(40):\n",
    "    col_label.append(str(i+1))\n",
    "#bupu = cl.scales['9']['seq']['BuPu']\n",
    "#bupu500 = cl.interp( bupu, 500 ) # Map color scale to 500 bins\n",
    "#colorscale = [[0, '#3D9970'], [150, '#001f3f']]\n",
    "    \n",
    "def data_selector(z):\n",
    "    selected_values = values[z]\n",
    "    #print(selected_values.shape)\n",
    "    \n",
    "    # Transpose x and y in array\n",
    "    #values_trans = numpy.array(selected_values).transpose()\n",
    "\n",
    "    fig = FF.create_annotated_heatmap(selected_values, y=row_label, x=col_label, colorscale='Jet') # 'Viridis'\n",
    "    fig['layout'].update({\n",
    "        'title':'HFF_MRM_Temperature_Status',\n",
    "        'autosize':False,\n",
    "        'width':'800',\n",
    "        'height':'1000',\n",
    "        #'margin':go.Margin(l=50, r=50, b=100, t=100, pad=4)\n",
    "        #'paper_bgcolor':'#7f7f7f',\n",
    "        #'plot_bgcolor':'#c7c7c7'\n",
    "    })\n",
    "    iplot(fig)\n",
    "    \n",
    "    #print('Selected index=' + str(z))\n",
    "    #print(selected_values)\n",
    "    \n",
    "#data_selector(0)"
   ]
  },
  {
   "cell_type": "code",
   "execution_count": null,
   "metadata": {
    "collapsed": false
   },
   "outputs": [],
   "source": [
    "interact(data_selector, z=widgets.IntSlider(min=0, max=len(values)-1, step=1, value=0));"
   ]
  },
  {
   "cell_type": "code",
   "execution_count": null,
   "metadata": {
    "collapsed": true
   },
   "outputs": [],
   "source": []
  }
 ],
 "metadata": {
  "kernelspec": {
   "display_name": "Python 3",
   "language": "python",
   "name": "python3"
  },
  "language_info": {
   "codemirror_mode": {
    "name": "ipython",
    "version": 3
   },
   "file_extension": ".py",
   "mimetype": "text/x-python",
   "name": "python",
   "nbconvert_exporter": "python",
   "pygments_lexer": "ipython3",
   "version": "3.5.1"
  },
  "widgets": {
   "state": {
    "034cf591c6d049e58682a588cd117164": {
     "views": []
    },
    "0786387d2bcf40bd9fb6615efd888778": {
     "views": []
    },
    "08e5ee1c06054367a957411b65e43fcc": {
     "views": []
    },
    "0ad65b11b51a48ecaafefd47a390b159": {
     "views": []
    },
    "0c714250a54d40efb2866c1ba0e007d9": {
     "views": []
    },
    "0daa4bfd6eb140158f682a2886e0ec5b": {
     "views": []
    },
    "0faece5f8ce2401ab0d6e08ebfdea9ef": {
     "views": []
    },
    "104adf59d48d46e689e7b2b03703849b": {
     "views": []
    },
    "1aaf3eac2ca14bac9117010247632c9e": {
     "views": []
    },
    "1b56002b5c9a45e8a44505ace32d860f": {
     "views": []
    },
    "1cafa9612910449486a511472a3b65f4": {
     "views": []
    },
    "22ccf248ff0a48f2bd127357516aaab7": {
     "views": []
    },
    "23f0e58f950145f79b07443c5ced3d31": {
     "views": []
    },
    "24b5fdefa0b54940827cd984184704da": {
     "views": []
    },
    "2810e8f2893f41f7900c91d22c004e2f": {
     "views": []
    },
    "2adaed6fdbd44d07992d0eccc3537878": {
     "views": []
    },
    "2bc6d441b6844072ba15a9ae05a49d02": {
     "views": []
    },
    "314d4adae17b4cc88b3cc49b1b63b01c": {
     "views": []
    },
    "31627e37deca40bb9e386b281acf21be": {
     "views": []
    },
    "3565236e53ee4c979a20b5037c22ba84": {
     "views": []
    },
    "3f89968298c14b17a0b0df02ddbf8f4e": {
     "views": []
    },
    "443a7473d34d4e209f174c08e4966f85": {
     "views": []
    },
    "462ec61b0aea4eda8574748f86405f35": {
     "views": []
    },
    "467f81415972416093cac86a65faba15": {
     "views": []
    },
    "4a055eb7837349a8a1fc351127c5510e": {
     "views": []
    },
    "4ac4cfc066b24e85849e1edf9229bb74": {
     "views": []
    },
    "544c0eb030db40f289163aeddb60f041": {
     "views": []
    },
    "5512560c7e714599a0073f849b7c15c9": {
     "views": []
    },
    "560640aa3e094006b74c7457aec13279": {
     "views": []
    },
    "585d21bd2a3a4c61a2e33e89031077f3": {
     "views": []
    },
    "62853041fe784885ae517df064397af6": {
     "views": []
    },
    "66b05810fd7f4ffaaf5bbebf66717030": {
     "views": []
    },
    "80e8c21f6577496689bc03f7099e4016": {
     "views": []
    },
    "83e104a659ec4cafa31ef367f6f01c87": {
     "views": []
    },
    "8597ebf965674c658e5a667d7057e4c8": {
     "views": []
    },
    "88b14226174d4e6ba8e05cffcdde2546": {
     "views": []
    },
    "88ccb1a3860e429189320c65777757bd": {
     "views": []
    },
    "8c169c497cd74da0afb9b0ff04cb6b5f": {
     "views": []
    },
    "99b2503acee4460192c343404823d035": {
     "views": []
    },
    "9ad12d2cab1c4e69a8a5d9c47a2ebf45": {
     "views": []
    },
    "9f45f04c291c409f9fd66678b6b24931": {
     "views": []
    },
    "a12eec04e8b64155b046dcf5858c9a25": {
     "views": []
    },
    "a47b5119ebb14db0b15ebfbfe33d250d": {
     "views": [
      {
       "cell_index": 5
      }
     ]
    },
    "aa105cc542204812a1d5dfc876e46dcb": {
     "views": [
      {
       "cell_index": 2
      }
     ]
    },
    "b533c642c7114df196b403b2075de6c4": {
     "views": []
    },
    "bb28ef9f86d641848b2366908cbad384": {
     "views": []
    },
    "d239ad81a5ed4417bdf7619bf422f912": {
     "views": []
    },
    "d3d4577326564c78a2bb36d687069ff6": {
     "views": []
    },
    "d607f995a8464d268495e66654c3d658": {
     "views": []
    },
    "d7387ff22f3340c8b395bbe05826cefc": {
     "views": []
    },
    "d9914f396e68411ebebd6f32e98c8da6": {
     "views": []
    },
    "da1a2e4c410141acb720a092a044d2ec": {
     "views": []
    },
    "dd26e7f4a78444528491a37a0b7161de": {
     "views": []
    },
    "e27bc5261f0847579521823e4eee5582": {
     "views": []
    },
    "e876e51178c04f27893e9169bc6ee73d": {
     "views": []
    },
    "e9fa87ad6ff348b8ab9a4759abc5a48d": {
     "views": []
    },
    "eabeaba6b16e4e4da1e008e733e73e4c": {
     "views": []
    },
    "ecc98fb132c240bba45aa49dd5e65bc3": {
     "views": []
    },
    "f1ee22a63ed94659a865277cbafcdd3c": {
     "views": []
    },
    "f590903d1b2e4fdc80cb976e54dda610": {
     "views": []
    },
    "f92b3a07ce274e4d9e85fe4de60c9c2f": {
     "views": []
    },
    "ff4a2775ac484581bb96e3be58edfadc": {
     "views": []
    }
   },
   "version": "1.1.1"
  }
 },
 "nbformat": 4,
 "nbformat_minor": 0
}

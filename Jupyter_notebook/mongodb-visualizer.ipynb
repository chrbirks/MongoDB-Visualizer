{
 "cells": [
  {
   "cell_type": "code",
   "execution_count": 3,
   "metadata": {
    "collapsed": true
   },
   "outputs": [],
   "source": [
    "import pymongo\n",
    "import numpy\n",
    "#import colorlover as cl\n",
    "\n",
    "# Offline plotting\n",
    "import plotly\n",
    "#plotly.offline.init_notebook_mode()\n",
    "# Cloud plotting\n",
    "#import plotly.plotly as py\n",
    "#py.sign_in('chrbirks', 'wi7e2kfa8h')\n",
    "\n",
    "from plotly.tools import FigureFactory as FF\n",
    "import plotly.graph_objs as go"
   ]
  },
  {
   "cell_type": "code",
   "execution_count": 4,
   "metadata": {
    "collapsed": true
   },
   "outputs": [],
   "source": [
    "client = pymongo.MongoClient(\"localhost\", 27017)\n",
    "\n",
    "db = client.test # Use DB name 'test'\n",
    "collection = db.HFF_MRM_Temperature_Status\n",
    "cursor = collection.find()\n",
    "#cursor = collection.find({'Temperature_Vec_1.Mean':30}, {'Temperature_Vec_1.Mean': 1})\n",
    "#cursor = collection.find({'Temperature_Vec_1.Mean':30}, {'Temperature_Vec_1.$.Mean':30})\n",
    "#cursor = collection.find({}, {'Temperature_Vec_1.Mean':'true', '_id':'false'})\n",
    "#cursor = collection.find({}, {'Temperature_Vec_1':'true'})\n",
    "\n",
    "# Find number of records\n",
    "z = 0\n",
    "for record in collection.find():\n",
    "    z += 1\n",
    "\n",
    "# Matrix with all temperature values. x=temperatures, y=mrms, z=records\n",
    "# Index using [z][y][x]. First index is 0\n",
    "values = numpy.array([[[0 for x in range(4)] for y in range(9)] for z in range(z)])\n",
    "#print(values)\n",
    "\n",
    "# For all MRM temperature records\n",
    "record_index = 0\n",
    "for record in collection.find():\n",
    "    #print(record)\n",
    "\n",
    "    # For all 9 temperature arrays\n",
    "    for mrm_index in range(0, 9):\n",
    "\n",
    "        mrm_string = 'Temperature_Vec_' + str(mrm_index+1)\n",
    "        #print(mrm_string)\n",
    "\n",
    "        values[record_index][mrm_index][0] = record[mrm_string]['A']\n",
    "        #print(values[record_index][mrm_index][0])\n",
    "\n",
    "        values[record_index][mrm_index][1] = record[mrm_string]['B']\n",
    "        #print(values[record_index][mrm_index][1])\n",
    "\n",
    "        values[record_index][mrm_index][2] = record[mrm_string]['C']\n",
    "        #print(values[record_index][mrm_index][2])\n",
    "\n",
    "        values[record_index][mrm_index][3] = record[mrm_string]['Mean']\n",
    "        #print(values[record_index][mrm_index][3])\n",
    "\n",
    "        #print(\"*** END OF MRM ***\")\n",
    "\n",
    "    #print(\"*** END OF RECORD ***\")\n",
    "    record_index += 1\n",
    "\n",
    "#print(values)\n",
    "#print(values[0])"
   ]
  },
  {
   "cell_type": "code",
   "execution_count": 6,
   "metadata": {
    "collapsed": false
   },
   "outputs": [
    {
     "data": {
      "text/plain": [
       "'file://I:\\\\Dropbox\\\\Projekter\\\\MongoDB-Visualizer\\\\Jupyter_notebook\\\\mrm_temperature_status.html'"
      ]
     },
     "execution_count": 6,
     "metadata": {},
     "output_type": "execute_result"
    }
   ],
   "source": [
    "####### Plotting using plotly\n",
    "mrm_label = ['MRM 1', 'MRM 2', 'MRM 3', 'MRM 4', 'MRM 5', 'MRM 6', 'MRM 7', 'MRM 8', 'MRM 9',]\n",
    "temperature_label = ['A', 'B', 'C', 'Mean']\n",
    "#bupu = cl.scales['9']['seq']['BuPu']\n",
    "#bupu500 = cl.interp( bupu, 500 ) # Map color scale to 500 bins\n",
    "#colorscale = [[0, '#3D9970'], [150, '#001f3f']]\n",
    "\n",
    "# Transpose x and y in array\n",
    "values_trans = numpy.array(values[1]).transpose()\n",
    "#print(\"\")\n",
    "#print(numpy.array(values).transpose())\n",
    "#x = numpy.array(values)\n",
    "\n",
    "# Plot\n",
    "fig = FF.create_annotated_heatmap(values_trans, x=mrm_label, y=temperature_label, colorscale='Jet') # 'Viridis'\n",
    "fig['layout'].update({\n",
    "    'title':'HFF_MRM_Temperature_Status',\n",
    "    'autosize':False,\n",
    "    'width':'1000',\n",
    "    'height':'600',\n",
    "    #'margin':go.Margin(l=50, r=50, b=100, t=100, pad=4)\n",
    "    #'paper_bgcolor':'#7f7f7f',\n",
    "    #'plot_bgcolor':'#c7c7c7'\n",
    "})\n",
    "# Cloud plotting\n",
    "#py.iplot(fig, filename='mrm_temperature_status')\n",
    "# Offline plotting\n",
    "plotly.offline.plot(fig, filename='mrm_temperature_status.html')"
   ]
  },
  {
   "cell_type": "code",
   "execution_count": null,
   "metadata": {
    "collapsed": true
   },
   "outputs": [],
   "source": []
  }
 ],
 "metadata": {
  "kernelspec": {
   "display_name": "Python 3",
   "language": "python",
   "name": "python3"
  },
  "language_info": {
   "codemirror_mode": {
    "name": "ipython",
    "version": 3
   },
   "file_extension": ".py",
   "mimetype": "text/x-python",
   "name": "python",
   "nbconvert_exporter": "python",
   "pygments_lexer": "ipython3",
   "version": "3.5.1"
  }
 },
 "nbformat": 4,
 "nbformat_minor": 0
}

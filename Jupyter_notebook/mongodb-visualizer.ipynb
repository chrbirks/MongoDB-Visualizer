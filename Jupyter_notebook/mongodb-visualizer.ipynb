{
 "cells": [
  {
   "cell_type": "code",
   "execution_count": 37,
   "metadata": {
    "collapsed": true
   },
   "outputs": [],
   "source": [
    "import pymongo\n",
    "import numpy\n",
    "#import colorlover as cl\n",
    "\n",
    "client = pymongo.MongoClient(\"localhost\", 27017)\n",
    "\n",
    "db = client.test # Use DB name 'test'\n",
    "collection = db.HFF_MRM_Temperature_Status\n",
    "cursor = collection.find()\n",
    "#cursor = collection.find({'Temperature_Vec_1.Mean':30}, {'Temperature_Vec_1.Mean': 1})\n",
    "#cursor = collection.find({'Temperature_Vec_1.Mean':30}, {'Temperature_Vec_1.$.Mean':30})\n",
    "#cursor = collection.find({}, {'Temperature_Vec_1.Mean':'true', '_id':'false'})\n",
    "#cursor = collection.find({}, {'Temperature_Vec_1':'true'})\n",
    "\n",
    "# Find number of records\n",
    "z = 0\n",
    "for record in collection.find():\n",
    "    z += 1\n",
    "\n",
    "# Matrix with all temperature values. x=temperatures, y=mrms, z=records\n",
    "# Index using [z][y][x]. First index is 0\n",
    "values = numpy.array([[[0 for x in range(4)] for y in range(9)] for z in range(z)])\n",
    "#print(values)\n",
    "\n",
    "# For all MRM temperature records\n",
    "record_index = 0\n",
    "for record in collection.find():\n",
    "    #print(record)\n",
    "\n",
    "    # For all 9 temperature arrays\n",
    "    for mrm_index in range(0, 9):\n",
    "\n",
    "        mrm_string = 'Temperature_Vec_' + str(mrm_index+1)\n",
    "        #print(mrm_string)\n",
    "\n",
    "        values[record_index][mrm_index][0] = record[mrm_string]['A']\n",
    "        #print(values[record_index][mrm_index][0])\n",
    "\n",
    "        values[record_index][mrm_index][1] = record[mrm_string]['B']\n",
    "        #print(values[record_index][mrm_index][1])\n",
    "\n",
    "        values[record_index][mrm_index][2] = record[mrm_string]['C']\n",
    "        #print(values[record_index][mrm_index][2])\n",
    "\n",
    "        values[record_index][mrm_index][3] = record[mrm_string]['Mean']\n",
    "        #print(values[record_index][mrm_index][3])\n",
    "\n",
    "        #print(\"*** END OF MRM ***\")\n",
    "\n",
    "    #print(\"*** END OF RECORD ***\")\n",
    "    record_index += 1\n",
    "\n",
    "#print(values)\n",
    "#print(values[0])\n",
    "\n",
    "####### Plotting using plotly\n",
    "mrm_label = ['MRM 1', 'MRM 2', 'MRM 3', 'MRM 4', 'MRM 5', 'MRM 6', 'MRM 7', 'MRM 8', 'MRM 9',]\n",
    "temperature_label = ['A', 'B', 'C', 'Mean']\n",
    "#bupu = cl.scales['9']['seq']['BuPu']\n",
    "#bupu500 = cl.interp( bupu, 500 ) # Map color scale to 500 bins\n",
    "#colorscale = [[0, '#3D9970'], [150, '#001f3f']]\n",
    "\n",
    "# Transpose x and y in array\n",
    "values_trans = numpy.array(values[1]).transpose()\n",
    "#print(\"\")\n",
    "#print(numpy.array(values).transpose())\n",
    "#x = numpy.array(values)"
   ]
  },
  {
   "cell_type": "markdown",
   "metadata": {},
   "source": [
    "## Create interactive plot here"
   ]
  },
  {
   "cell_type": "code",
   "execution_count": 1,
   "metadata": {
    "collapsed": false,
    "scrolled": true
   },
   "outputs": [
    {
     "name": "stderr",
     "output_type": "stream",
     "text": [
      "i:\\programmer\\python\\python35-32\\lib\\site-packages\\IPython\\html.py:14: ShimWarning: The `IPython.html` package has been deprecated. You should import from `notebook` instead. `IPython.html.widgets` has moved to `ipywidgets`.\n",
      "  \"`IPython.html.widgets` has moved to `ipywidgets`.\", ShimWarning)\n"
     ]
    },
    {
     "ename": "AttributeError",
     "evalue": "IntSliderWidget",
     "output_type": "error",
     "traceback": [
      "\u001b[1;31m---------------------------------------------------------------------------\u001b[0m",
      "\u001b[1;31mAttributeError\u001b[0m                            Traceback (most recent call last)",
      "\u001b[1;32mi:\\programmer\\python\\python35-32\\lib\\site-packages\\IPython\\utils\\importstring.py\u001b[0m in \u001b[0;36mimport_item\u001b[1;34m(name)\u001b[0m\n\u001b[0;32m     32\u001b[0m         \u001b[1;32mtry\u001b[0m\u001b[1;33m:\u001b[0m\u001b[1;33m\u001b[0m\u001b[0m\n\u001b[1;32m---> 33\u001b[1;33m             \u001b[0mpak\u001b[0m \u001b[1;33m=\u001b[0m \u001b[0mgetattr\u001b[0m\u001b[1;33m(\u001b[0m\u001b[0mmodule\u001b[0m\u001b[1;33m,\u001b[0m \u001b[0mobj\u001b[0m\u001b[1;33m)\u001b[0m\u001b[1;33m\u001b[0m\u001b[0m\n\u001b[0m\u001b[0;32m     34\u001b[0m         \u001b[1;32mexcept\u001b[0m \u001b[0mAttributeError\u001b[0m\u001b[1;33m:\u001b[0m\u001b[1;33m\u001b[0m\u001b[0m\n",
      "\u001b[1;31mAttributeError\u001b[0m: module 'ipywidgets' has no attribute 'IntSliderWidget'",
      "\nDuring handling of the above exception, another exception occurred:\n",
      "\u001b[1;31mImportError\u001b[0m                               Traceback (most recent call last)",
      "\u001b[1;32mi:\\programmer\\python\\python35-32\\lib\\site-packages\\IPython\\utils\\shimmodule.py\u001b[0m in \u001b[0;36m__getattr__\u001b[1;34m(self, key)\u001b[0m\n\u001b[0;32m     89\u001b[0m         \u001b[1;32mtry\u001b[0m\u001b[1;33m:\u001b[0m\u001b[1;33m\u001b[0m\u001b[0m\n\u001b[1;32m---> 90\u001b[1;33m             \u001b[1;32mreturn\u001b[0m \u001b[0mimport_item\u001b[0m\u001b[1;33m(\u001b[0m\u001b[0mname\u001b[0m\u001b[1;33m)\u001b[0m\u001b[1;33m\u001b[0m\u001b[0m\n\u001b[0m\u001b[0;32m     91\u001b[0m         \u001b[1;32mexcept\u001b[0m \u001b[0mImportError\u001b[0m\u001b[1;33m:\u001b[0m\u001b[1;33m\u001b[0m\u001b[0m\n",
      "\u001b[1;32mi:\\programmer\\python\\python35-32\\lib\\site-packages\\IPython\\utils\\importstring.py\u001b[0m in \u001b[0;36mimport_item\u001b[1;34m(name)\u001b[0m\n\u001b[0;32m     34\u001b[0m         \u001b[1;32mexcept\u001b[0m \u001b[0mAttributeError\u001b[0m\u001b[1;33m:\u001b[0m\u001b[1;33m\u001b[0m\u001b[0m\n\u001b[1;32m---> 35\u001b[1;33m             \u001b[1;32mraise\u001b[0m \u001b[0mImportError\u001b[0m\u001b[1;33m(\u001b[0m\u001b[1;34m'No module named %s'\u001b[0m \u001b[1;33m%\u001b[0m \u001b[0mobj\u001b[0m\u001b[1;33m)\u001b[0m\u001b[1;33m\u001b[0m\u001b[0m\n\u001b[0m\u001b[0;32m     36\u001b[0m         \u001b[1;32mreturn\u001b[0m \u001b[0mpak\u001b[0m\u001b[1;33m\u001b[0m\u001b[0m\n",
      "\u001b[1;31mImportError\u001b[0m: No module named IntSliderWidget",
      "\nDuring handling of the above exception, another exception occurred:\n",
      "\u001b[1;31mAttributeError\u001b[0m                            Traceback (most recent call last)",
      "\u001b[1;32m<ipython-input-1-d6479eec8585>\u001b[0m in \u001b[0;36m<module>\u001b[1;34m()\u001b[0m\n\u001b[0;32m     13\u001b[0m     \u001b[0mprint\u001b[0m\u001b[1;33m(\u001b[0m\u001b[0mx\u001b[0m\u001b[1;33m)\u001b[0m\u001b[1;33m\u001b[0m\u001b[0m\n\u001b[0;32m     14\u001b[0m \u001b[1;33m\u001b[0m\u001b[0m\n\u001b[1;32m---> 15\u001b[1;33m \u001b[0minteract\u001b[0m\u001b[1;33m(\u001b[0m\u001b[0mf\u001b[0m\u001b[1;33m,\u001b[0m \u001b[0mx\u001b[0m\u001b[1;33m=\u001b[0m\u001b[0mwidgets\u001b[0m\u001b[1;33m.\u001b[0m\u001b[0mIntSliderWidget\u001b[0m\u001b[1;33m(\u001b[0m\u001b[0mmin\u001b[0m\u001b[1;33m=\u001b[0m\u001b[1;33m-\u001b[0m\u001b[1;36m10\u001b[0m\u001b[1;33m,\u001b[0m\u001b[0mmax\u001b[0m\u001b[1;33m=\u001b[0m\u001b[1;36m30\u001b[0m\u001b[1;33m,\u001b[0m\u001b[0mstep\u001b[0m\u001b[1;33m=\u001b[0m\u001b[1;36m1\u001b[0m\u001b[1;33m,\u001b[0m\u001b[0mvalue\u001b[0m\u001b[1;33m=\u001b[0m\u001b[1;36m10\u001b[0m\u001b[1;33m)\u001b[0m\u001b[1;33m)\u001b[0m\u001b[1;33m;\u001b[0m\u001b[1;33m\u001b[0m\u001b[0m\n\u001b[0m\u001b[0;32m     16\u001b[0m \u001b[1;31m#interact(f, x=10)\u001b[0m\u001b[1;33m\u001b[0m\u001b[1;33m\u001b[0m\u001b[0m\n\u001b[0;32m     17\u001b[0m \u001b[1;33m\u001b[0m\u001b[0m\n",
      "\u001b[1;32mi:\\programmer\\python\\python35-32\\lib\\site-packages\\IPython\\utils\\shimmodule.py\u001b[0m in \u001b[0;36m__getattr__\u001b[1;34m(self, key)\u001b[0m\n\u001b[0;32m     90\u001b[0m             \u001b[1;32mreturn\u001b[0m \u001b[0mimport_item\u001b[0m\u001b[1;33m(\u001b[0m\u001b[0mname\u001b[0m\u001b[1;33m)\u001b[0m\u001b[1;33m\u001b[0m\u001b[0m\n\u001b[0;32m     91\u001b[0m         \u001b[1;32mexcept\u001b[0m \u001b[0mImportError\u001b[0m\u001b[1;33m:\u001b[0m\u001b[1;33m\u001b[0m\u001b[0m\n\u001b[1;32m---> 92\u001b[1;33m             \u001b[1;32mraise\u001b[0m \u001b[0mAttributeError\u001b[0m\u001b[1;33m(\u001b[0m\u001b[0mkey\u001b[0m\u001b[1;33m)\u001b[0m\u001b[1;33m\u001b[0m\u001b[0m\n\u001b[0m",
      "\u001b[1;31mAttributeError\u001b[0m: IntSliderWidget"
     ]
    }
   ],
   "source": [
    "#from ipywidgets import widgets\n",
    "#from IPython.display import display\n",
    "from IPython.html.widgets import interact, interactive, fixed\n",
    "from IPython.html import widgets\n",
    "\n",
    "# http://nbviewer.jupyter.org/github/quantopian/ipython/blob/master/examples/Interactive%20Widgets/Using%20Interact.ipynb\n",
    "\n",
    "#@interact(x=True, y=1.0)\n",
    "#def g(x, y):\n",
    "#    print(x, y)\n",
    "\n",
    "def f(x):\n",
    "    print(x)\n",
    "    \n",
    "interact(f, x=widgets.IntSliderWidget(min=-10,max=30,step=1,value=10));\n",
    "#interact(f, x=10)\n",
    "\n"
   ]
  },
  {
   "cell_type": "code",
   "execution_count": 38,
   "metadata": {
    "collapsed": false
   },
   "outputs": [
    {
     "data": {
      "text/html": [
       "<iframe id=\"igraph\" scrolling=\"no\" style=\"border:none;\" seamless=\"seamless\" src=\"https://plot.ly/~chrbirks/5.embed\" height=\"600px\" width=\"1000px\"></iframe>"
      ],
      "text/plain": [
       "<plotly.tools.PlotlyDisplay object>"
      ]
     },
     "execution_count": 38,
     "metadata": {},
     "output_type": "execute_result"
    }
   ],
   "source": [
    "import plotly.plotly as py\n",
    "#py.sign_in('chrbirks', 'wi7e2kfa8h')\n",
    "from plotly.tools import FigureFactory as FF\n",
    "import plotly.graph_objs as go\n",
    "\n",
    "fig = FF.create_annotated_heatmap(values_trans, x=mrm_label, y=temperature_label, colorscale='Jet') # 'Viridis'\n",
    "fig['layout'].update({\n",
    "    'title':'HFF_MRM_Temperature_Status',\n",
    "    'autosize':False,\n",
    "    'width':'1000',\n",
    "    'height':'600',\n",
    "    #'margin':go.Margin(l=50, r=50, b=100, t=100, pad=4)\n",
    "    #'paper_bgcolor':'#7f7f7f',\n",
    "    #'plot_bgcolor':'#c7c7c7'\n",
    "})\n",
    "py.iplot(fig, filename='mrm_temperature_status')"
   ]
  },
  {
   "cell_type": "markdown",
   "metadata": {},
   "source": [
    "## Plot to HTML file on disk"
   ]
  },
  {
   "cell_type": "code",
   "execution_count": 19,
   "metadata": {
    "collapsed": false
   },
   "outputs": [
    {
     "data": {
      "text/plain": [
       "'file://I:\\\\Dropbox\\\\Projekter\\\\MongoDB-Visualizer\\\\Jupyter_notebook\\\\mrm_temperature_status.html'"
      ]
     },
     "execution_count": 19,
     "metadata": {},
     "output_type": "execute_result"
    }
   ],
   "source": [
    "import plotly\n",
    "plotly.offline.init_notebook_mode()\n",
    "from plotly.tools import FigureFactory as FF\n",
    "import plotly.graph_objs as go\n",
    "\n",
    "fig = FF.create_annotated_heatmap(values_trans, x=mrm_label, y=temperature_label, colorscale='Jet') # 'Viridis'\n",
    "fig['layout'].update({\n",
    "    'title':'HFF_MRM_Temperature_Status',\n",
    "    'autosize':False,\n",
    "    'width':'1000',\n",
    "    'height':'600',\n",
    "    #'margin':go.Margin(l=50, r=50, b=100, t=100, pad=4)\n",
    "    #'paper_bgcolor':'#7f7f7f',\n",
    "    #'plot_bgcolor':'#c7c7c7'\n",
    "})\n",
    "plotly.offline.plot(fig, filename='mrm_temperature_status.html')"
   ]
  },
  {
   "cell_type": "markdown",
   "metadata": {},
   "source": [
    "## Temporary testing area"
   ]
  },
  {
   "cell_type": "code",
   "execution_count": 39,
   "metadata": {
    "collapsed": false
   },
   "outputs": [],
   "source": [
    "from ipywidgets import widgets\n",
    "from IPython.display import display\n",
    "text = widgets.Text()\n",
    "display(text)\n",
    "\n",
    "def handle_submit(sender):\n",
    "    print(text.value)\n",
    "    \n",
    "text.on_submit(handle_submit)"
   ]
  },
  {
   "cell_type": "code",
   "execution_count": 40,
   "metadata": {
    "collapsed": false
   },
   "outputs": [],
   "source": [
    "button = widgets.Button(description=\"KliK\")\n",
    "display(button)\n",
    "\n",
    "def on_click(b):\n",
    "    print(\"Button clicked\")\n",
    "    \n",
    "button.on_click(on_click)"
   ]
  },
  {
   "cell_type": "code",
   "execution_count": null,
   "metadata": {
    "collapsed": true
   },
   "outputs": [],
   "source": []
  }
 ],
 "metadata": {
  "kernelspec": {
   "display_name": "Python 3",
   "language": "python",
   "name": "python3"
  },
  "language_info": {
   "codemirror_mode": {
    "name": "ipython",
    "version": 3
   },
   "file_extension": ".py",
   "mimetype": "text/x-python",
   "name": "python",
   "nbconvert_exporter": "python",
   "pygments_lexer": "ipython3",
   "version": "3.5.1"
  },
  "widgets": {
   "state": {},
   "version": "1.1.1"
  }
 },
 "nbformat": 4,
 "nbformat_minor": 0
}
